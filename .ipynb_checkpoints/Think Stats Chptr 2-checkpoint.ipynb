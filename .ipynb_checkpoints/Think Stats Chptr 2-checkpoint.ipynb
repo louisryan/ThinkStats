{
 "metadata": {
  "name": ""
 },
 "nbformat": 3,
 "nbformat_minor": 0,
 "worksheets": [
  {
   "cells": [
    {
     "cell_type": "heading",
     "level": 1,
     "metadata": {},
     "source": [
      "Think Stats Chapter 2"
     ]
    },
    {
     "cell_type": "heading",
     "level": 3,
     "metadata": {},
     "source": [
      "Variance"
     ]
    },
    {
     "cell_type": "markdown",
     "metadata": {},
     "source": [
      "In the same way that the mean is intended to describe the central tendancy, variance is intended to describe the spread of data. The variance is the mean squared deviation:"
     ]
    },
    {
     "cell_type": "markdown",
     "metadata": {},
     "source": [
      "$$ 1/n $$"
     ]
    },
    {
     "cell_type": "code",
     "collapsed": false,
     "input": [
      "import pandas as pd\n",
      "import numpy as np\n",
      "%pylab inline\n",
      "\n",
      "pumpkins = pd.Series([1., 1., 1., 3., 3., 591])\n",
      "\n",
      "print('Mean of pumpkins: %f' % pumpkins.mean())\n",
      "print('Median of pumpkins: %f' % pumpkins.median())\n",
      "print('Variance of pumpkins: %f' % pumpkins.var())\n",
      "print('Standard Dev of pumpkins: %f' % pumpkins.std())"
     ],
     "language": "python",
     "metadata": {},
     "outputs": [
      {
       "output_type": "stream",
       "stream": "stdout",
       "text": [
        "Populating the interactive namespace from numpy and matplotlib\n",
        "Mean of pumpkins: 100.000000\n",
        "Median of pumpkins: 2.000000\n",
        "Variance of pumpkins: 57860.400000\n",
        "Standard Dev of pumpkins: 240.541888\n"
       ]
      }
     ],
     "prompt_number": 8
    },
    {
     "cell_type": "heading",
     "level": 3,
     "metadata": {},
     "source": [
      "Load Preg Data"
     ]
    },
    {
     "cell_type": "code",
     "collapsed": false,
     "input": [
      "df = pd.read_csv('C:/Users/lryan/Desktop/preg_details.csv')\n",
      "df.head()"
     ],
     "language": "python",
     "metadata": {},
     "outputs": [
      {
       "html": [
        "<div style=\"max-height:1000px;max-width:1500px;overflow:auto;\">\n",
        "<table border=\"1\" class=\"dataframe\">\n",
        "  <thead>\n",
        "    <tr style=\"text-align: right;\">\n",
        "      <th></th>\n",
        "      <th>Unnamed: 0</th>\n",
        "      <th>agepreg</th>\n",
        "      <th>babysex</th>\n",
        "      <th>birthord</th>\n",
        "      <th>birthwgt_lb</th>\n",
        "      <th>birthwgt_oz</th>\n",
        "      <th>caseid</th>\n",
        "      <th>finalwgt</th>\n",
        "      <th>nbrnaliv</th>\n",
        "      <th>outcome</th>\n",
        "      <th>prglength</th>\n",
        "      <th>totalwght_ozs</th>\n",
        "    </tr>\n",
        "  </thead>\n",
        "  <tbody>\n",
        "    <tr>\n",
        "      <th>0</th>\n",
        "      <td> 0</td>\n",
        "      <td> 33.16</td>\n",
        "      <td> 1</td>\n",
        "      <td> 1</td>\n",
        "      <td> 8</td>\n",
        "      <td> 13</td>\n",
        "      <td> 1</td>\n",
        "      <td>  6448.271112</td>\n",
        "      <td> 1</td>\n",
        "      <td> 1</td>\n",
        "      <td> 39</td>\n",
        "      <td> 141</td>\n",
        "    </tr>\n",
        "    <tr>\n",
        "      <th>1</th>\n",
        "      <td> 1</td>\n",
        "      <td> 39.25</td>\n",
        "      <td> 2</td>\n",
        "      <td> 2</td>\n",
        "      <td> 7</td>\n",
        "      <td> 14</td>\n",
        "      <td> 1</td>\n",
        "      <td>  6448.271112</td>\n",
        "      <td> 1</td>\n",
        "      <td> 1</td>\n",
        "      <td> 39</td>\n",
        "      <td> 126</td>\n",
        "    </tr>\n",
        "    <tr>\n",
        "      <th>2</th>\n",
        "      <td> 2</td>\n",
        "      <td> 14.33</td>\n",
        "      <td> 1</td>\n",
        "      <td> 1</td>\n",
        "      <td> 9</td>\n",
        "      <td>  2</td>\n",
        "      <td> 2</td>\n",
        "      <td> 12999.542264</td>\n",
        "      <td> 3</td>\n",
        "      <td> 1</td>\n",
        "      <td> 39</td>\n",
        "      <td> 146</td>\n",
        "    </tr>\n",
        "    <tr>\n",
        "      <th>3</th>\n",
        "      <td> 3</td>\n",
        "      <td> 17.83</td>\n",
        "      <td> 2</td>\n",
        "      <td> 2</td>\n",
        "      <td> 7</td>\n",
        "      <td>  0</td>\n",
        "      <td> 2</td>\n",
        "      <td> 12999.542264</td>\n",
        "      <td> 1</td>\n",
        "      <td> 1</td>\n",
        "      <td> 39</td>\n",
        "      <td> 112</td>\n",
        "    </tr>\n",
        "    <tr>\n",
        "      <th>4</th>\n",
        "      <td> 4</td>\n",
        "      <td> 18.33</td>\n",
        "      <td> 2</td>\n",
        "      <td> 3</td>\n",
        "      <td> 6</td>\n",
        "      <td>  3</td>\n",
        "      <td> 2</td>\n",
        "      <td> 12999.542264</td>\n",
        "      <td> 1</td>\n",
        "      <td> 1</td>\n",
        "      <td> 39</td>\n",
        "      <td>  99</td>\n",
        "    </tr>\n",
        "  </tbody>\n",
        "</table>\n",
        "</div>"
       ],
       "metadata": {},
       "output_type": "pyout",
       "prompt_number": 9,
       "text": [
        "   Unnamed: 0  agepreg  babysex  birthord  birthwgt_lb  birthwgt_oz  caseid  \\\n",
        "0           0    33.16        1         1            8           13       1   \n",
        "1           1    39.25        2         2            7           14       1   \n",
        "2           2    14.33        1         1            9            2       2   \n",
        "3           3    17.83        2         2            7            0       2   \n",
        "4           4    18.33        2         3            6            3       2   \n",
        "\n",
        "       finalwgt  nbrnaliv  outcome  prglength  totalwght_ozs  \n",
        "0   6448.271112         1        1         39            141  \n",
        "1   6448.271112         1        1         39            126  \n",
        "2  12999.542264         3        1         39            146  \n",
        "3  12999.542264         1        1         39            112  \n",
        "4  12999.542264         1        1         39             99  "
       ]
      }
     ],
     "prompt_number": 9
    },
    {
     "cell_type": "code",
     "collapsed": false,
     "input": [
      "first_born = df[(df.outcome == 1) & (df.birthord == 1)]\n",
      "other_born = df[(df.outcome == 1) & (df.birthord != 1)]"
     ],
     "language": "python",
     "metadata": {},
     "outputs": [],
     "prompt_number": 10
    },
    {
     "cell_type": "code",
     "collapsed": false,
     "input": [
      "print(len(first_born))\n",
      "print(len(other_born))"
     ],
     "language": "python",
     "metadata": {},
     "outputs": [
      {
       "output_type": "stream",
       "stream": "stdout",
       "text": [
        "4413\n",
        "4735\n"
       ]
      }
     ],
     "prompt_number": 11
    },
    {
     "cell_type": "code",
     "collapsed": false,
     "input": [
      "fig = plt.figure(figsize=(18,6))\n",
      "\n",
      "fig.add_subplot(121)\n",
      "first_born.prglength.hist(normed=True)\n",
      "\n",
      "fig.add_subplot(122)\n",
      "other_born.prglength.hist(normed=True)"
     ],
     "language": "python",
     "metadata": {},
     "outputs": [
      {
       "metadata": {},
       "output_type": "pyout",
       "prompt_number": 12,
       "text": [
        "<matplotlib.axes.AxesSubplot at 0x8b0ebe0>"
       ]
      },
      {
       "metadata": {},
       "output_type": "display_data",
       "png": "[encoded data removed]",
       "text": [
        "<matplotlib.figure.Figure at 0x8a2b588>"
       ]
      }
     ],
     "prompt_number": 12
    },
    {
     "cell_type": "code",
     "collapsed": false,
     "input": [
      "def css_styling():\n",
      "    from IPython.display import HTML\n",
      "    styles = open('styles/custom.css', 'r').read()\n",
      "    return HTML(styles)\n",
      "\n",
      "css_styling()"
     ],
     "language": "python",
     "metadata": {},
     "outputs": [
      {
       "html": [
        "<style>\n",
        "    @font-face {\n",
        "        font-family: \"Computer Modern\";\n",
        "        src: url('http://9dbb143991406a7c655e-aa5fcb0a5a4ec34cff238a2d56ca4144.r56.cf5.rackcdn.com/cmunss.otf');\n",
        "    }\n",
        "    @font-face {\n",
        "        font-family: \"Computer Modern\";\n",
        "        font-weight: bold;\n",
        "        src: url('http://9dbb143991406a7c655e-aa5fcb0a5a4ec34cff238a2d56ca4144.r56.cf5.rackcdn.com/cmunsx.otf');\n",
        "    }\n",
        "    @font-face {\n",
        "        font-family: \"Computer Modern\";\n",
        "        font-style: oblique;\n",
        "        src: url('http://9dbb143991406a7c655e-aa5fcb0a5a4ec34cff238a2d56ca4144.r56.cf5.rackcdn.com/cmunsi.otf');\n",
        "    }\n",
        "    @font-face {\n",
        "        font-family: \"Computer Modern\";\n",
        "        font-weight: bold;\n",
        "        font-style: oblique;\n",
        "        src: url('http://9dbb143991406a7c655e-aa5fcb0a5a4ec34cff238a2d56ca4144.r56.cf5.rackcdn.com/cmunso.otf');\n",
        "    }\n",
        "    div.cell{\n",
        "        width:900px;\n",
        "        margin-left:16% !important;\n",
        "    }\n",
        "    h1 {\n",
        "        font-family: Helvetica, serif;\n",
        "        text-align: center;\n",
        "    }\n",
        "    h4{\n",
        "        margin-top:12px;\n",
        "        margin-bottom: 3px;\n",
        "       }\n",
        "    div.text_cell_render{\n",
        "        font-family: Computer Modern, \"Helvetica Neue\", Arial, Helvetica, Geneva, sans-serif;\n",
        "        line-height: 115%;\n",
        "        font-size: 120%;\n",
        "        width:900px;\n",
        "        margin-left:auto;\n",
        "        margin-right:auto;\n",
        "    }\n",
        "    .CodeMirror{\n",
        "            font-family: \"Source Code Pro\", source-code-pro,Consolas, monospace;\n",
        "    }\n",
        "    .prompt{\n",
        "        display: None;\n",
        "    }\n",
        "    .text_cell_render h5 {\n",
        "        font-weight: 300;\n",
        "        font-size: 22pt;\n",
        "        color: #4057A1;\n",
        "        font-style: italic;\n",
        "        margin-bottom: .5em;\n",
        "        margin-top: 0.5em;\n",
        "        display: block;\n",
        "    }\n",
        "\n",
        "    .image {\n",
        "    display: block;\n",
        "    margin-left: auto;\n",
        "    margin-right: auto \n",
        "    }\n",
        "    \n",
        "    .warning{\n",
        "        color: rgb( 240, 20, 20 )\n",
        "        }  \n",
        "</style>\n",
        "<script>\n",
        "    MathJax.Hub.Config({\n",
        "                        TeX: {\n",
        "                           extensions: [\"AMSmath.js\"]\n",
        "                           },\n",
        "                tex2jax: {\n",
        "                    inlineMath: [ ['$','$'], [\"\\\\(\",\"\\\\)\"] ],\n",
        "                    displayMath: [ ['$$','$$'], [\"\\\\[\",\"\\\\]\"] ]\n",
        "                },\n",
        "                displayAlign: 'center', // Change this to 'center' to center equations.\n",
        "                \"HTML-CSS\": {\n",
        "                    styles: {'.MathJax_Display': {\"margin\": 4}}\n",
        "                }\n",
        "        });\n",
        "</script>"
       ],
       "metadata": {},
       "output_type": "pyout",
       "prompt_number": 13,
       "text": [
        "<IPython.core.display.HTML at 0x8aee9e8>"
       ]
      }
     ],
     "prompt_number": 13
    }
   ],
   "metadata": {}
  }
 ]
}